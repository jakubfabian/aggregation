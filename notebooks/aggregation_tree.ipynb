{
 "cells": [
  {
   "cell_type": "code",
   "execution_count": 43,
   "metadata": {},
   "outputs": [
    {
     "name": "stdout",
     "output_type": "stream",
     "text": [
      "[1, 1, 1, 1, 1]\n",
      "[1, 2, 1, 1]\n",
      "[1, 3, 1]\n",
      "[2, 3]\n",
      "[5]\n"
     ]
    }
   ],
   "source": [
    "from aggregation import riming_runs\n",
    "\n",
    "gen = riming_runs.gen_monomer(psd=\"monodisperse\", size=300e-6, min_size=100e-6, max_size=3000e-6, mono_type=\"dendrite\", rimed=True, grid_res=40e-6)\n",
    "agg_iter = riming_runs.generate_rimed_aggregate(gen, N=5, align=True, riming_lwp=0.0, riming_mode=\"subsequent\", lwp_div=100, iter=True)\n",
    "\n",
    "# Print the number of monomers in each aggregate at every aggregation step. Rerun to make the tree more interesting\n",
    "for aggs in agg_iter:\n",
    "    print([i.monomer_number for i in aggs])"
   ]
  },
  {
   "cell_type": "code",
   "execution_count": 25,
   "metadata": {},
   "outputs": [
    {
     "data": {
      "text/plain": [
       "'[[[[[[[[4, 5], 6], 3], 9], 2], 1], [7, 8]], 0]'"
      ]
     },
     "execution_count": 25,
     "metadata": {},
     "output_type": "execute_result"
    }
   ],
   "source": [
    "# Print the aggregation tree in a list form\n",
    "str(aggs[0].id_tree)"
   ]
  },
  {
   "cell_type": "code",
   "execution_count": 37,
   "metadata": {},
   "outputs": [],
   "source": [
    "# Use external package binarytree for more advanced visualization https://pypi.org/project/binarytree/\n",
    "from binarytree import Node\n",
    "\n",
    "# Use recursion to define the tree\n",
    "def add_branches(node, branches):\n",
    "    node.left = Node(str(branches[0]))\n",
    "    if isinstance(branches[0], list):\n",
    "        node.left = add_branches(node.left, branches[0])\n",
    "    node.right = Node(str(branches[1]))\n",
    "    if isinstance(branches[1], list):\n",
    "        node.right = add_branches(node.right, branches[1])\n",
    "    return node\n",
    "\n",
    "root = Node(str(aggs[0].id_tree))\n",
    "root = add_branches(root, aggs[0].id_tree)\n",
    "\n",
    "#root.left = Node(str(aggs[0].id_tree[0]))\n",
    "#root.right = Node(str(aggs[0].id_tree[1]))"
   ]
  },
  {
   "cell_type": "code",
   "execution_count": 38,
   "metadata": {},
   "outputs": [
    {
     "name": "stdout",
     "output_type": "stream",
     "text": [
      "\n",
      "                                                                                                                                                         _______________________________[[[[[[[[4, 5], 6], 3], 9], 2], 1], [7, 8]], 0]\n",
      "                                                                                                                                                        /                                                                             \\\n",
      "                                                                                                                  _________________[[[[[[[4, 5], 6], 3], 9], 2], 1], [7, 8]]____                                                       0\n",
      "                                                                                                                 /                                                              \\\n",
      "                                                                                  _______________[[[[[[4, 5], 6], 3], 9], 2], 1]                                               [7, 8]\n",
      "                                                                                 /                                              \\                                             /      \\\n",
      "                                                        ____________[[[[[4, 5], 6], 3], 9], 2]                                   1                                           7        8\n",
      "                                                       /                                      \\\n",
      "                                  __________[[[[4, 5], 6], 3], 9]                              2\n",
      "                                 /                               \\\n",
      "                  _______[[[4, 5], 6], 3]                         9\n",
      "                 /                       \\\n",
      "      _____[[4, 5], 6]                    3\n",
      "     /                \\\n",
      "  [4, 5]               6\n",
      " /      \\\n",
      "4        5\n",
      "\n"
     ]
    }
   ],
   "source": [
    "print(root)"
   ]
  },
  {
   "cell_type": "code",
   "execution_count": 31,
   "metadata": {},
   "outputs": [
    {
     "ename": "IndexError",
     "evalue": "list index out of range",
     "output_type": "error",
     "traceback": [
      "\u001b[0;31m---------------------------------------------------------------------------\u001b[0m",
      "\u001b[0;31mIndexError\u001b[0m                                Traceback (most recent call last)",
      "\u001b[0;32m<ipython-input-31-3437b0c3cb21>\u001b[0m in \u001b[0;36m<module>\u001b[0;34m\u001b[0m\n\u001b[0;32m----> 1\u001b[0;31m \u001b[0maggs\u001b[0m\u001b[0;34m[\u001b[0m\u001b[0;36m0\u001b[0m\u001b[0;34m]\u001b[0m\u001b[0;34m.\u001b[0m\u001b[0mid_tree\u001b[0m\u001b[0;34m[\u001b[0m\u001b[0;36m2\u001b[0m\u001b[0;34m]\u001b[0m\u001b[0;34m\u001b[0m\u001b[0;34m\u001b[0m\u001b[0m\n\u001b[0m",
      "\u001b[0;31mIndexError\u001b[0m: list index out of range"
     ]
    }
   ],
   "source": [
    "aggs[0].id_tree[2]"
   ]
  },
  {
   "cell_type": "code",
   "execution_count": null,
   "metadata": {},
   "outputs": [],
   "source": []
  }
 ],
 "metadata": {
  "kernelspec": {
   "display_name": "Python 3",
   "language": "python",
   "name": "python3"
  },
  "language_info": {
   "codemirror_mode": {
    "name": "ipython",
    "version": 3
   },
   "file_extension": ".py",
   "mimetype": "text/x-python",
   "name": "python",
   "nbconvert_exporter": "python",
   "pygments_lexer": "ipython3",
   "version": "3.8.10"
  }
 },
 "nbformat": 4,
 "nbformat_minor": 4
}
