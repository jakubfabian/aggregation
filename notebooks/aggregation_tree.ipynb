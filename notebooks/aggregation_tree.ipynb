{
 "cells": [
  {
   "cell_type": "code",
   "execution_count": 16,
   "metadata": {},
   "outputs": [
    {
     "name": "stdout",
     "output_type": "stream",
     "text": [
      "[1, 1, 1, 1, 1, 1, 1, 1, 1, 1]\n",
      "[1, 1, 1, 1, 2, 1, 1, 1, 1]\n",
      "[1, 1, 1, 3, 1, 1, 1, 1]\n",
      "[1, 1, 1, 4, 1, 1, 1]\n",
      "[2, 1, 4, 1, 1, 1]\n",
      "[3, 1, 4, 1, 1]\n",
      "[4, 1, 4, 1]\n",
      "[5, 4, 1]\n",
      "[6, 4]\n",
      "[10]\n"
     ]
    }
   ],
   "source": [
    "from aggregation import riming_runs\n",
    "\n",
    "gen = riming_runs.gen_monomer(psd=\"monodisperse\", size=300e-6, min_size=100e-6, max_size=3000e-6, mono_type=\"dendrite\", rimed=True, grid_res=40e-6)\n",
    "agg_iter = riming_runs.generate_rimed_aggregate(gen, N=10, align=True, riming_lwp=0.0, riming_mode=\"subsequent\", lwp_div=100, iter=True)\n",
    "\n",
    "for aggs in agg_iter:\n",
    "    print([i.monomer_number for i in aggs])"
   ]
  },
  {
   "cell_type": "code",
   "execution_count": 18,
   "metadata": {},
   "outputs": [
    {
     "data": {
      "text/plain": [
       "[[[[[[0, 1], 9], 7], 3], 5], [[[4, 6], 2], 8]]"
      ]
     },
     "execution_count": 18,
     "metadata": {},
     "output_type": "execute_result"
    }
   ],
   "source": [
    "aggs[0].id_tree"
   ]
  },
  {
   "cell_type": "code",
   "execution_count": null,
   "metadata": {},
   "outputs": [],
   "source": []
  }
 ],
 "metadata": {
  "kernelspec": {
   "display_name": "Python 3",
   "language": "python",
   "name": "python3"
  },
  "language_info": {
   "codemirror_mode": {
    "name": "ipython",
    "version": 3
   },
   "file_extension": ".py",
   "mimetype": "text/x-python",
   "name": "python",
   "nbconvert_exporter": "python",
   "pygments_lexer": "ipython3",
   "version": "3.8.10"
  }
 },
 "nbformat": 4,
 "nbformat_minor": 4
}
